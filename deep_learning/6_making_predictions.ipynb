{
 "cells": [
  {
   "cell_type": "code",
   "execution_count": 1,
   "metadata": {},
   "outputs": [],
   "source": [
    "import time\n",
    "import tensorflow as tf\n",
    "from tensorflow.keras.models import Sequential\n",
    "from tensorflow.keras.layers import Dense, Dropout, Activation, Flatten, Conv2D, MaxPooling2D\n",
    "import pickle\n",
    "import time\n",
    "from tensorflow.keras.callbacks import TensorBoard\n",
    "\n",
    "X = pickle.load(open(\"X.pickle\", \"rb\"))\n",
    "y = pickle.load(open(\"y.pickle\", \"rb\"))\n",
    "\n",
    "X = X/255.0"
   ]
  },
  {
   "cell_type": "code",
   "execution_count": 2,
   "metadata": {},
   "outputs": [
    {
     "name": "stdout",
     "output_type": "stream",
     "text": [
      "Epoch 1/10\n",
      "  2/702 [..............................] - ETA: 7:58 - loss: 0.7031 - accuracy: 0.5000WARNING:tensorflow:Method (on_train_batch_end) is slow compared to the batch update (0.543178). Check your callbacks.\n",
      "702/702 [==============================] - 165s 235ms/step - loss: 0.6118 - accuracy: 0.6592 - val_loss: 0.5176 - val_accuracy: 0.7463\n",
      "Epoch 2/10\n",
      "702/702 [==============================] - 166s 236ms/step - loss: 0.5026 - accuracy: 0.7544 - val_loss: 0.4774 - val_accuracy: 0.7743\n",
      "Epoch 3/10\n",
      "702/702 [==============================] - 207s 295ms/step - loss: 0.4418 - accuracy: 0.7965 - val_loss: 0.4395 - val_accuracy: 0.7908\n",
      "Epoch 4/10\n",
      "702/702 [==============================] - 163s 232ms/step - loss: 0.3965 - accuracy: 0.8210 - val_loss: 0.4141 - val_accuracy: 0.8032\n",
      "Epoch 5/10\n",
      "702/702 [==============================] - 176s 251ms/step - loss: 0.3633 - accuracy: 0.8354 - val_loss: 0.3810 - val_accuracy: 0.8273\n",
      "Epoch 6/10\n",
      "702/702 [==============================] - 200s 284ms/step - loss: 0.3319 - accuracy: 0.8526 - val_loss: 0.3709 - val_accuracy: 0.8349\n",
      "Epoch 7/10\n",
      "702/702 [==============================] - 167s 238ms/step - loss: 0.3003 - accuracy: 0.8689 - val_loss: 0.3762 - val_accuracy: 0.8381\n",
      "Epoch 8/10\n",
      "702/702 [==============================] - 204s 290ms/step - loss: 0.2732 - accuracy: 0.8816 - val_loss: 0.3578 - val_accuracy: 0.8497\n",
      "Epoch 9/10\n",
      "702/702 [==============================] - 192s 273ms/step - loss: 0.2502 - accuracy: 0.8937 - val_loss: 0.3525 - val_accuracy: 0.8517\n",
      "Epoch 10/10\n",
      "702/702 [==============================] - 164s 233ms/step - loss: 0.2324 - accuracy: 0.9022 - val_loss: 0.3971 - val_accuracy: 0.8313\n",
      "WARNING:tensorflow:From C:\\Users\\micha\\AppData\\Roaming\\Python\\Python38\\site-packages\\tensorflow\\python\\ops\\resource_variable_ops.py:1813: calling BaseResourceVariable.__init__ (from tensorflow.python.ops.resource_variable_ops) with constraint is deprecated and will be removed in a future version.\n",
      "Instructions for updating:\n",
      "If using Keras pass *_constraint arguments to layers.\n",
      "INFO:tensorflow:Assets written to: 64x3-CNN.model\\assets\n"
     ]
    }
   ],
   "source": [
    "from itertools import product\n",
    "dense_layer = 0\n",
    "layer_size = 64\n",
    "conv_layer = 3\n",
    "NAME = f\"sentdex_dl_6-{int(time.time())}\"\n",
    "tensorboard = TensorBoard(log_dir=f\"logs/{NAME}\")\n",
    "\n",
    "model = Sequential()\n",
    "model.add(Conv2D(layer_size, (3, 3), input_shape=X.shape[1:]))\n",
    "model.add(Activation(\"relu\"))\n",
    "model.add(MaxPooling2D(pool_size=(2, 2)))\n",
    "\n",
    "for l in range(conv_layer-1): \n",
    "    model.add(Conv2D(layer_size, (3, 3)))\n",
    "    model.add(Activation(\"relu\"))\n",
    "    model.add(MaxPooling2D(pool_size=(2, 2)))\n",
    "\n",
    "model.add(Flatten())  # converts 3d features into 1d linear vectors\n",
    "\n",
    "for l in range(dense_layer):\n",
    "    model.add(Dense(layer_sizea))\n",
    "    model.add(Activation(\"relu\"))\n",
    "    model.add(Dropout(0.2))\n",
    "\n",
    "model.add(Dense(1))\n",
    "model.add(Activation(\"sigmoid\"))\n",
    "\n",
    "model.compile(loss=\"binary_crossentropy\",\n",
    "              optimizer=\"adam\",\n",
    "              metrics=[\"accuracy\"])\n",
    "\n",
    "model.fit(X, y, batch_size=32, epochs=10, validation_split=0.1,\n",
    "          callbacks=[tensorboard])\n",
    "\n",
    "model.save('64x3-CNN.model')"
   ]
  },
  {
   "cell_type": "code",
   "execution_count": 3,
   "metadata": {},
   "outputs": [],
   "source": [
    "import cv2\n",
    "\n",
    "CATEGORIES=[\"Dog\", \"Cat\"]\n",
    "\n",
    "def prepare(filepath):\n",
    "    IMG_SIZE=70\n",
    "    img_array=cv2.imread(filepath,cv2.IMREAD_GRAYSCALE)\n",
    "    new_array=cv2.resize(img_array,(IMG_SIZE,IMG_SIZE))\n",
    "    return new_array.reshape(-1,IMG_SIZE,IMG_SIZE,1)\n",
    "\n",
    "model=tf.keras.models.load_model(\"64x3-CNN.model\")"
   ]
  },
  {
   "cell_type": "code",
   "execution_count": 8,
   "metadata": {},
   "outputs": [
    {
     "name": "stdout",
     "output_type": "stream",
     "text": [
      "Dog\n",
      "Cat\n"
     ]
    }
   ],
   "source": [
    "\n",
    "prediction=model.predict([prepare('dog.jpg')])\n",
    "print(CATEGORIES[int(prediction[0][0])])\n",
    "\n",
    "prediction=model.predict([prepare('cat.jpeg')])\n",
    "print(CATEGORIES[int(prediction[0][0])])"
   ]
  }
 ],
 "metadata": {
  "kernelspec": {
   "display_name": "Python 3",
   "language": "python",
   "name": "python3"
  },
  "language_info": {
   "codemirror_mode": {
    "name": "ipython",
    "version": 3
   },
   "file_extension": ".py",
   "mimetype": "text/x-python",
   "name": "python",
   "nbconvert_exporter": "python",
   "pygments_lexer": "ipython3",
   "version": "3.8.1"
  }
 },
 "nbformat": 4,
 "nbformat_minor": 4
}
