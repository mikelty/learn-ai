{
 "cells": [
  {
   "cell_type": "code",
   "execution_count": null,
   "metadata": {},
   "outputs": [],
   "source": [
    "import numpy as np\n",
    "import matplotlib.pyplot as plt "
   ]
  },
  {
   "cell_type": "code",
   "execution_count": null,
   "metadata": {},
   "outputs": [],
   "source": [
    "# Circle topology\n",
    "\n",
    "# Unweighted adjacency matrix\n",
    "Atilde = np.zeros((8,8), dtype=int)\n",
    "Atilde = ??\n",
    "print('Unweighted adjacency matrix')\n",
    "print(Atilde)\n",
    "\n",
    "# find weighted adjacency matrix\n",
    "A = ??\n",
    "print('Weighted adjacency matrix')\n",
    "print(A)"
   ]
  },
  {
   "cell_type": "code",
   "execution_count": null,
   "metadata": {},
   "outputs": [],
   "source": [
    "# Power method\n",
    "\n",
    "b0 = 0.125*np.ones((8,1))\n",
    "print('b0 = ', b0)\n",
    "\n",
    "b1 = ??\n",
    "print('b1 = ', b1)\n",
    "\n",
    "b = b0\n",
    "for k in range(1000):\n",
    "    b = ??\n",
    "    \n",
    "print('1000 iterations')\n",
    "print('b = ',b)\n"
   ]
  },
  {
   "cell_type": "code",
   "execution_count": null,
   "metadata": {},
   "outputs": [],
   "source": [
    "# Hub topology\n",
    "\n",
    "Atildehub = np.zeros((9,9), dtype=int)\n",
    "Atildehub = ??\n",
    "\n",
    "print('Unweighted adjacency matrix')\n",
    "print(Atildehub)\n",
    "\n",
    "# find weighted adjacency matrix\n",
    "Ahub = ??\n",
    "print('Weighted adjacency matrix')\n",
    "print(Ahub)"
   ]
  },
  {
   "cell_type": "code",
   "execution_count": null,
   "metadata": {},
   "outputs": [],
   "source": [
    "b0 = (1/9)*np.ones((9,1))\n",
    "print('b0 = ', b0)\n",
    "\n",
    "bhub1 = ??\n",
    "print('bhub1 = ', b1)\n",
    "\n",
    "bhub = ??\n",
    "for k in range(1000):\n",
    "    bhub = ??\n",
    "    \n",
    "print('1000 iterations')\n",
    "print('bhub = ',bhub)\n",
    "\n",
    "bhubr = b0\n",
    "for k in range(100):\n",
    "    bhubr = ??\n",
    "    \n",
    "print('100 iterations')\n",
    "print('bhubr = ',bhubr)"
   ]
  }
 ],
 "metadata": {
  "kernelspec": {
   "display_name": "Python 3",
   "language": "python",
   "name": "python3"
  },
  "language_info": {
   "codemirror_mode": {
    "name": "ipython",
    "version": 3
   },
   "file_extension": ".py",
   "mimetype": "text/x-python",
   "name": "python",
   "nbconvert_exporter": "python",
   "pygments_lexer": "ipython3",
   "version": "3.7.4"
  }
 },
 "nbformat": 4,
 "nbformat_minor": 2
}
