{
 "cells": [
  {
   "cell_type": "markdown",
   "metadata": {},
   "source": [
    "Kernel Classification Example"
   ]
  },
  {
   "cell_type": "code",
   "execution_count": null,
   "metadata": {},
   "outputs": [],
   "source": [
    "import numpy as np\n",
    "import matplotlib.pyplot as plt\n",
    "\n",
    "p = int(2) #features\n",
    "n = int(1000) #examples\n",
    "\n",
    "## generate training data\n",
    "X = np.random.rand(n,p)-0.5\n",
    "Y1 = np.sign(np.sum(X**2,1)-.1).reshape((-1, 1))\n",
    "\n",
    "Y2 = np.sign(5*X[:,[0]]**3-X[:,[1]])\n",
    "Y = np.hstack((Y1, Y2))"
   ]
  },
  {
   "cell_type": "code",
   "execution_count": null,
   "metadata": {},
   "outputs": [],
   "source": [
    "# Plot training data for first classification problem\n",
    "plt.scatter(X[:,0], X[:,1], color=['b' if i==-1 else 'r' for i in Y1[:,0]])\n",
    "plt.axis('equal')\n",
    "plt.title('Labeled data, first classifier')\n",
    "plt.show()"
   ]
  },
  {
   "cell_type": "code",
   "execution_count": null,
   "metadata": {},
   "outputs": [],
   "source": [
    "# Plot training data for second classification problem \n",
    "plt.scatter(X[:,0], X[:,1], color=['b' if i==-1 else 'r' for i in Y2[:,0]])\n",
    "plt.title('Labeled data, second classifier')\n",
    "plt.axis('equal')\n",
    "plt.show()"
   ]
  },
  {
   "cell_type": "code",
   "execution_count": null,
   "metadata": {},
   "outputs": [],
   "source": [
    "# Train Classifiers\n",
    "\n",
    "sigma = 0.5\n",
    "lam = 0.01\n",
    "\n",
    "distsq=np.zeros((n,n),dtype=float)\n",
    "\n",
    "for i in range(0,n):\n",
    "    for j in range(0,n):\n",
    "        d = np.linalg.norm(X[i,:]-X[j,:])\n",
    "        distsq[i,j]=d**2\n",
    "        \n",
    "K = np.exp(-distsq/(2*sigma**2))\n",
    "\n",
    "alpha1 = np.linalg.inv(K+lam*np.identity(n))@Y1\n",
    "alpha2 = np.linalg.inv(K+lam*np.identity(n))@Y2"
   ]
  },
  {
   "cell_type": "code",
   "execution_count": null,
   "metadata": {},
   "outputs": [],
   "source": [
    "# Predict labels\n",
    "\n",
    "Yhat = K@np.hstack((alpha1, alpha2))\n",
    "Yhat_thresh=np.sign(Yhat)"
   ]
  },
  {
   "cell_type": "code",
   "execution_count": null,
   "metadata": {},
   "outputs": [],
   "source": [
    "# Display results\n",
    "\n",
    "plt.scatter(X[:,0], X[:,1], c=Yhat[:,0])\n",
    "plt.colorbar()\n",
    "plt.title('Predicted Labels, first classifier')\n",
    "plt.axis('equal')\n",
    "plt.show()\n",
    "\n",
    "plt.scatter(X[:,0], X[:,1], color=['b' if i==-1 else 'r' for i in Yhat_thresh[:,0]])\n",
    "plt.axis('equal')\n",
    "plt.title('Thresholded Labels, first classifier')\n",
    "plt.show()\n",
    "\n",
    "plt.scatter(X[:,0], X[:,1], c=Yhat[:,1])\n",
    "plt.title('Predicted Labels, second classifier')\n",
    "plt.colorbar()\n",
    "plt.axis('equal')\n",
    "plt.show()\n",
    "\n",
    "plt.scatter(X[:,0], X[:,1], color=['b' if i==-1 else 'r' for i in Yhat_thresh[:,1]])\n",
    "plt.axis('equal')\n",
    "plt.title('Thresholded Labels, second classifier')\n",
    "plt.show()\n"
   ]
  },
  {
   "cell_type": "code",
   "execution_count": null,
   "metadata": {},
   "outputs": [],
   "source": [
    "err_c1 = np.sum(np.abs(Yhat_thresh[:,0]-Y[:,0]))\n",
    "print('Errors, first classifier:', err_c1)\n",
    "\n",
    "err_c2 = np.sum(np.abs(Yhat_thresh[:,1]-Y[:,1]))\n",
    "print('Errors, second classifier:', err_c2)"
   ]
  }
 ],
 "metadata": {
  "kernelspec": {
   "display_name": "Python 3",
   "language": "python",
   "name": "python3"
  },
  "language_info": {
   "codemirror_mode": {
    "name": "ipython",
    "version": 3
   },
   "file_extension": ".py",
   "mimetype": "text/x-python",
   "name": "python",
   "nbconvert_exporter": "python",
   "pygments_lexer": "ipython3",
   "version": "3.7.4"
  }
 },
 "nbformat": 4,
 "nbformat_minor": 2
}
