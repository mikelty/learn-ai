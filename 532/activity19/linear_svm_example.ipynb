{
 "cells": [
  {
   "cell_type": "markdown",
   "metadata": {},
   "source": [
    "## Problem 3 "
   ]
  },
  {
   "cell_type": "code",
   "execution_count": null,
   "metadata": {},
   "outputs": [],
   "source": [
    "import numpy as np\n",
    "from scipy.io import loadmat\n",
    "import matplotlib.pyplot as plt \n",
    "from sklearn.svm import LinearSVC\n",
    "\n",
    "in_data = loadmat('classifier_data.mat')\n",
    "\n",
    "x_train = in_data['x_train']\n",
    "x_eval = in_data['x_eval']\n",
    "y_train = in_data['y_train']\n",
    "y_eval = in_data['y_eval']\n",
    "\n",
    "n_eval = np.size(y_eval)\n",
    "n_train = np.size(y_train)\n",
    "\n",
    "plt.scatter(x_train[:,0],x_train[:,1], color=['c' if i==-1 else 'r' for i in y_train[:,0]])\n",
    "plt.title('training data')\n",
    "plt.show()"
   ]
  },
  {
   "cell_type": "code",
   "execution_count": null,
   "metadata": {},
   "outputs": [],
   "source": [
    "plt.scatter(x_eval[:,0],x_eval[:,1], color=['c' if i==-1 else 'r' for i in y_eval[:,0]])\n",
    "plt.title('eval data true class')\n",
    "plt.show()"
   ]
  },
  {
   "cell_type": "code",
   "execution_count": null,
   "metadata": {},
   "outputs": [],
   "source": [
    "## Classifier 1\n",
    "x_train_1 = np.hstack(( x_train, np.ones((n_train,1)) ))\n",
    "x_eval_1 = np.hstack(( x_eval, np.ones((n_eval,1)) ))\n",
    "\n",
    "# Train classifier using linear SVM from SK Learn library\n",
    "clf = LinearSVC(random_state=0, tol=1e-8)\n",
    "clf.fit(x_train_1, np.squeeze(y_train))\n",
    "w_opt = clf.coef_.transpose()\n",
    "\n",
    "#uncomment this line to use least squares classifier\n",
    "#w_opt = np.linalg.inv(x_train_1.T@x_train_1)@x_train_1.T@y_train  \n",
    "\n",
    "y_hat_outlier = np.sign(x_eval_1@w_opt)\n",
    "plt.scatter(x_eval[:,0],x_eval[:,1], color=['c' if i==-1 else 'r' for i in y_hat_outlier[:,0]])\n",
    "plt.title('predicted class on eval data')\n",
    "plt.show()"
   ]
  },
  {
   "cell_type": "code",
   "execution_count": null,
   "metadata": {},
   "outputs": [],
   "source": [
    "error_vec = [0 if i[0]==i[1] else 1 for i in np.hstack((y_hat_outlier, y_eval))]\n",
    "plt.scatter(x_eval[:,0],x_eval[:,1], color=['c' if i==0 else 'r' for i in error_vec])\n",
    "plt.title('errors')\n",
    "plt.show()\n",
    "\n",
    "print('Errors: '+ str(sum(error_vec)))"
   ]
  },
  {
   "cell_type": "markdown",
   "metadata": {},
   "source": [
    "## Add correct points far from boundary "
   ]
  },
  {
   "cell_type": "code",
   "execution_count": null,
   "metadata": {},
   "outputs": [],
   "source": [
    "## create new, correctly labeled points \n",
    "n_new = 1000 #number of new datapoints\n",
    "x_train_new = np.hstack((np.zeros((n_new,1)), 10*np.ones((n_new,1))))\n",
    "y_train_new = np.ones((n_new,1))\n",
    "\n",
    "## add these to the training data\n",
    "x_train_outlier = np.vstack((x_train,x_train_new))\n",
    "y_train_outlier = np.vstack((y_train,y_train_new))\n",
    "plt.scatter(x_train_outlier[:,0],x_train_outlier[:,1], color=['c' if i==-1 else 'r' for i in y_train_outlier[:,0]])\n",
    "plt.title('new training data')\n",
    "plt.show()"
   ]
  },
  {
   "cell_type": "code",
   "execution_count": null,
   "metadata": {},
   "outputs": [],
   "source": [
    "x_train_outlier_1 = np.hstack((x_train_outlier, np.ones((n_train+n_new,1)) ))\n",
    "x_eval_1 = np.hstack((x_eval, np.ones((n_eval,1)) ))\n",
    "\n",
    "#Train classifier using off the shelf SVM from sklearn\n",
    "clf = LinearSVC(random_state=0, tol=1e-5)\n",
    "clf.fit(x_train_outlier_1, np.squeeze(y_train_outlier))\n",
    "w_opt_outlier = clf.coef_.transpose()\n",
    "\n",
    "#uncomment this line to use least squares classifier\n",
    "#w_opt_outlier = np.linalg.inv(x_train_outlier_1.T@x_train_outlier_1)@x_train_outlier_1.T@y_train_outlier\n",
    "\n",
    "y_hat_outlier = np.sign(x_eval_1@w_opt_outlier)\n",
    "plt.scatter(x_eval[:,0],x_eval[:,1], color=['c' if i==-1 else 'r' for i in y_hat_outlier[:,0]])\n",
    "plt.title('predicted class on eval data')\n",
    "plt.show()"
   ]
  },
  {
   "cell_type": "code",
   "execution_count": null,
   "metadata": {},
   "outputs": [],
   "source": [
    "error_vec = [0 if i[0]==i[1] else 1 for i in np.hstack((y_hat_outlier, y_eval))]\n",
    "plt.scatter(x_eval[:,0],x_eval[:,1], color=['c' if i==0 else 'r' for i in error_vec])\n",
    "plt.title('errors')\n",
    "plt.show()\n",
    "\n",
    "print('Errors: '+ str(sum(error_vec)))"
   ]
  },
  {
   "cell_type": "code",
   "execution_count": null,
   "metadata": {},
   "outputs": [],
   "source": []
  }
 ],
 "metadata": {
  "kernelspec": {
   "display_name": "Python 3",
   "language": "python",
   "name": "python3"
  },
  "language_info": {
   "codemirror_mode": {
    "name": "ipython",
    "version": 3
   },
   "file_extension": ".py",
   "mimetype": "text/x-python",
   "name": "python",
   "nbconvert_exporter": "python",
   "pygments_lexer": "ipython3",
   "version": "3.7.4"
  }
 },
 "nbformat": 4,
 "nbformat_minor": 2
}
