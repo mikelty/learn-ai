{
 "cells": [
  {
   "cell_type": "code",
   "execution_count": 12,
   "metadata": {},
   "outputs": [],
   "source": [
    "import numpy as np\n",
    "from scipy.io import loadmat\n",
    "import matplotlib.pyplot as plt"
   ]
  },
  {
   "cell_type": "code",
   "execution_count": 3,
   "metadata": {},
   "outputs": [
    {
     "data": {
      "text/html": [
       "<style>.container { width:100% !important; }</style>"
      ],
      "text/plain": [
       "<IPython.core.display.HTML object>"
      ]
     },
     "metadata": {},
     "output_type": "display_data"
    }
   ],
   "source": [
    "#for better view\n",
    "from IPython.core.display import display, HTML\n",
    "display(HTML(\"<style>.container { width:100% !important; }</style>\"))\n",
    "np.set_printoptions(edgeitems=30, linewidth=300,precision=2)"
   ]
  },
  {
   "cell_type": "code",
   "execution_count": 4,
   "metadata": {},
   "outputs": [],
   "source": [
    "Xtrue = loadmat(\"incomplete.mat\")[\"Xtrue\"]\n",
    "Y1 = loadmat(\"incomplete.mat\")[\"Y1\"]\n",
    "Y2 = loadmat(\"incomplete.mat\")[\"Y2\"]\n",
    "Y3 = loadmat(\"incomplete.mat\")[\"Y3\"]"
   ]
  },
  {
   "cell_type": "code",
   "execution_count": 5,
   "metadata": {},
   "outputs": [],
   "source": [
    "### DO NOT change\n",
    "def ItSingValThresh(Y, r):\n",
    "    \"\"\"\n",
    "    Iterative Singular Value Thresholding function for Matrix Completion\n",
    "    Assumes elements of Y are integers between 0 and 10^6\n",
    "    \"\"\"\n",
    "    tol = 10**(-6)  # difference between iterates at termination\n",
    "    n,p = Y.shape \n",
    "    X = np.array(Y) #make a copy so operations do not mutate the original\n",
    "    X[np.isnan(X)] = 0 # Fill in missing entries with zeros\n",
    "\n",
    "    err = 10**6 \n",
    "    \n",
    "    while err > tol:\n",
    "        U,s,VT = np.linalg.svd(X, full_matrices=False)\n",
    "        V = VT.T ; S = np.diag(s)\n",
    "        Xnew = (U[:,:r] @ S[:r,:r] @ V[:,:r].T).round()\n",
    "        for i in range(n):\n",
    "            for j in range(p):\n",
    "                if Y[i,j] < 10**6 and Y[i,j] > 0:\n",
    "                    Xnew[i,j] = Y[i,j]\n",
    "        err = np.linalg.norm(X-Xnew,'fro') \n",
    "        X = Xnew\n",
    "    return X"
   ]
  },
  {
   "cell_type": "code",
   "execution_count": 6,
   "metadata": {},
   "outputs": [
    {
     "data": {
      "text/plain": [
       "array([[30, 12, 24,  8, 12, 14, 12, 12, 22, 24, 14, 10, 14, 24, 20, 12],\n",
       "       [30, 21, 15, 11, 21, 26, 12, 21, 10, 15, 17, 16,  8, 15, 23, 12],\n",
       "       [15,  9,  9,  5,  9, 11,  6,  9,  7,  9,  8,  7,  5,  9, 11,  6],\n",
       "       [35, 16, 26, 10, 16, 19, 14, 16, 23, 26, 17, 13, 15, 26, 24, 14],\n",
       "       [15,  9,  9,  5,  9, 11,  6,  9,  7,  9,  8,  7,  5,  9, 11,  6],\n",
       "       [25, 11, 19,  7, 11, 13, 10, 11, 17, 19, 12,  9, 11, 19, 17, 10],\n",
       "       [45, 24, 30, 14, 24, 29, 18, 24, 25, 30, 23, 19, 17, 30, 32, 18],\n",
       "       [30, 15, 21,  9, 15, 18, 12, 15, 18, 21, 15, 12, 12, 21, 21, 12],\n",
       "       [25, 11, 19,  7, 11, 13, 10, 11, 17, 19, 12,  9, 11, 19, 17, 10],\n",
       "       [20, 13, 11,  7, 13, 16,  8, 13,  8, 11, 11, 10,  6, 11, 15,  8],\n",
       "       [45, 24, 30, 14, 24, 29, 18, 24, 25, 30, 23, 19, 17, 30, 32, 18],\n",
       "       [30, 15, 21,  9, 15, 18, 12, 15, 18, 21, 15, 12, 12, 21, 21, 12],\n",
       "       [25, 17, 13,  9, 17, 21, 10, 17,  9, 13, 14, 13,  7, 13, 19, 10],\n",
       "       [40, 20, 28, 12, 20, 24, 16, 20, 24, 28, 20, 16, 16, 28, 28, 16],\n",
       "       [30, 18, 18, 10, 18, 22, 12, 18, 14, 18, 16, 14, 10, 18, 22, 12],\n",
       "       [25, 11, 19,  7, 11, 13, 10, 11, 17, 19, 12,  9, 11, 19, 17, 10]], dtype=uint8)"
      ]
     },
     "execution_count": 6,
     "metadata": {},
     "output_type": "execute_result"
    }
   ],
   "source": [
    "Xtrue"
   ]
  },
  {
   "cell_type": "code",
   "execution_count": 7,
   "metadata": {},
   "outputs": [
    {
     "data": {
      "text/plain": [
       "8999.0"
      ]
     },
     "execution_count": 7,
     "metadata": {},
     "output_type": "execute_result"
    }
   ],
   "source": [
    "np.linalg.norm(Xtrue-ItSingValThresh(Y1,2),'fro')**2"
   ]
  },
  {
   "cell_type": "code",
   "execution_count": 8,
   "metadata": {},
   "outputs": [
    {
     "data": {
      "text/plain": [
       "14.0"
      ]
     },
     "execution_count": 8,
     "metadata": {},
     "output_type": "execute_result"
    }
   ],
   "source": [
    "np.linalg.norm(Xtrue-ItSingValThresh(Y2,2),'fro')**2"
   ]
  },
  {
   "cell_type": "code",
   "execution_count": 9,
   "metadata": {},
   "outputs": [
    {
     "data": {
      "text/plain": [
       "0.0"
      ]
     },
     "execution_count": 9,
     "metadata": {},
     "output_type": "execute_result"
    }
   ],
   "source": [
    "np.linalg.norm(Xtrue-ItSingValThresh(Y3,2),'fro')**2"
   ]
  },
  {
   "cell_type": "code",
   "execution_count": 10,
   "metadata": {},
   "outputs": [],
   "source": [
    "#code based on lecture and paper\n",
    "#link to paper:https://arxiv.org/pdf/1401.2451.pdf (Algorithm 1)\n",
    "#todo: remove round() when calculating Znew?\n",
    "#idea: how about adding an r (or even a list of r's corresponding to lambda) just like isvt algo. above?\n",
    "def SoftImpute(X, params, r):\n",
    "    '''\n",
    "    soft impute algorithm for one lambda\n",
    "    assumes all matrix entries less than 1e6\n",
    "    an iteration is similar to isvt\n",
    "    uses descending regularization parameters over iterations\n",
    "    uses matrix shrinkage operator to regularize the singular values\n",
    "    '''\n",
    "    Z=np.zeros_like(X)\n",
    "    n,p=X.shape\n",
    "    ans=[]\n",
    "    for lam in params:\n",
    "        eps = 10**(-1) \n",
    "        y = eps + 1\n",
    "        while y > eps:\n",
    "            for i in range(n):\n",
    "                for j in range(p):\n",
    "                    if X[i,j] < 10**6 and X[i,j] > 0:\n",
    "                        Z[i,j] = X[i,j]\n",
    "            U,s,VT = np.linalg.svd(Z)\n",
    "            if(max(s)<lam):\n",
    "                break\n",
    "            slam=[max(0,i-lam) for i in s]; V=VT.T; S = np.diag(slam)\n",
    "            Znew = (U[:,:r] @ S[:r,:r] @ V[:,:r].T)\n",
    "            y = np.linalg.norm(Znew-Z,'fro')**2 / np.linalg.norm(Z,'fro')**2\n",
    "            Z = Znew\n",
    "        ans.append(Z)\n",
    "    return ans"
   ]
  },
  {
   "cell_type": "code",
   "execution_count": 24,
   "metadata": {},
   "outputs": [
    {
     "data": {
      "text/plain": [
       "[<matplotlib.lines.Line2D at 0x11c4b4850>]"
      ]
     },
     "execution_count": 24,
     "metadata": {},
     "output_type": "execute_result"
    },
    {
     "data": {
      "image/png": "[encoded data removed]",
      "text/plain": [
       "<Figure size 432x288 with 1 Axes>"
      ]
     },
     "metadata": {
      "needs_background": "light"
     },
     "output_type": "display_data"
    }
   ],
   "source": [
    "params=np.array([0.999999**i for i in range(1000)])\n",
    "err=[np.linalg.norm(Xtrue-Z,'fro')**2 for Z in SoftImpute(Y1,params,2)]\n",
    "iterations=np.array([i for i in range(len(err))])\n",
    "plt.title('Error Against Number of Iterations for Y1 using Soft Impute')\n",
    "plt.xlabel('Number of iterations', fontsize=18)\n",
    "plt.ylabel('Error', fontsize=16)\n",
    "plt.plot(iterations,err)"
   ]
  },
  {
   "cell_type": "code",
   "execution_count": 25,
   "metadata": {},
   "outputs": [
    {
     "data": {
      "text/plain": [
       "[<matplotlib.lines.Line2D at 0x11c267690>]"
      ]
     },
     "execution_count": 25,
     "metadata": {},
     "output_type": "execute_result"
    },
    {
     "data": {
      "image/png": "[encoded data removed]",
      "text/plain": [
       "<Figure size 432x288 with 1 Axes>"
      ]
     },
     "metadata": {
      "needs_background": "light"
     },
     "output_type": "display_data"
    }
   ],
   "source": [
    "params=np.array([50,25,12,6,3,1,0.5,0.25,0.1,0.01,0.001,0.0001,0.00001,0.000001])\n",
    "err=[np.linalg.norm(Xtrue-Z,'fro')**2 for Z in SoftImpute(Y2,params,2)]\n",
    "iterations=np.array([i for i in range(len(err))])\n",
    "plt.title('Error Against Number of Iterations for Y2 using Soft Impute')\n",
    "plt.xlabel('Number of iterations', fontsize=18)\n",
    "plt.ylabel('Error', fontsize=16)\n",
    "plt.plot(iterations,err)"
   ]
  },
  {
   "cell_type": "code",
   "execution_count": 26,
   "metadata": {},
   "outputs": [
    {
     "data": {
      "text/plain": [
       "[<matplotlib.lines.Line2D at 0x11c50db10>]"
      ]
     },
     "execution_count": 26,
     "metadata": {},
     "output_type": "execute_result"
    },
    {
     "data": {
      "image/png": "[encoded data removed]",
      "text/plain": [
       "<Figure size 432x288 with 1 Axes>"
      ]
     },
     "metadata": {
      "needs_background": "light"
     },
     "output_type": "display_data"
    }
   ],
   "source": [
    "params=np.array([50,25,12,6,3,1,0.5,0.25,0.1,0.01,0.001])\n",
    "err=[np.linalg.norm(Xtrue-Z,'fro')**2 for Z in SoftImpute(Y3,params,2)]\n",
    "iterations=np.array([i for i in range(len(err))])\n",
    "plt.title('Error Against Number of Iterations for Y3 using Soft Impute')\n",
    "plt.xlabel('Number of iterations', fontsize=18)\n",
    "plt.ylabel('Error', fontsize=16)\n",
    "plt.plot(iterations,err)"
   ]
  },
  {
   "cell_type": "code",
   "execution_count": 16,
   "metadata": {},
   "outputs": [],
   "source": [
    "def RandSVD(B,k,p,q):\n",
    "    A=B.copy()\n",
    "    m,n=A.shape\n",
    "    A[np.isnan(A)]=0\n",
    "    O=np.random.normal(size=(n,k+p))\n",
    "    Y=np.linalg.matrix_power(A@A.T,q)@A@O\n",
    "    V,R=np.linalg.qr(Y)\n",
    "    B=(V.T)@A\n",
    "    Phat,s,QT=np.linalg.svd(B)\n",
    "    Q=QT.T\n",
    "    S=np.diag(s)[:k,:k]\n",
    "    P=V@Phat[:,:k]\n",
    "    _,cols=S.shape\n",
    "    return P@S@Q[:,:k].T"
   ]
  },
  {
   "cell_type": "code",
   "execution_count": 50,
   "metadata": {},
   "outputs": [
    {
     "data": {
      "text/plain": [
       "167.43959607067546"
      ]
     },
     "execution_count": 50,
     "metadata": {},
     "output_type": "execute_result"
    }
   ],
   "source": [
    "from itertools import product\n",
    "pqproduct=product([0,0,1,1,2,2,5,5,10,10,50,50],repeat=2)\n",
    "allpqs=[list(x) for x in pqproduct]\n",
    "allresults=[np.linalg.norm(Xtrue-RandSVD(Y1,2,p,q),'fro') for p,q in allpqs]\n",
    "min(allresults)"
   ]
  },
  {
   "cell_type": "code",
   "execution_count": 51,
   "metadata": {},
   "outputs": [
    {
     "name": "stdout",
     "output_type": "stream",
     "text": [
      "[0, 50]\n"
     ]
    }
   ],
   "source": [
    "minidx=np.argmin(allresults)\n",
    "print(allpqs[minidx])"
   ]
  }
 ],
 "metadata": {
  "kernelspec": {
   "display_name": "Python 3",
   "language": "python",
   "name": "python3"
  },
  "language_info": {
   "codemirror_mode": {
    "name": "ipython",
    "version": 3
   },
   "file_extension": ".py",
   "mimetype": "text/x-python",
   "name": "python",
   "nbconvert_exporter": "python",
   "pygments_lexer": "ipython3",
   "version": "3.8.0"
  }
 },
 "nbformat": 4,
 "nbformat_minor": 4
}
