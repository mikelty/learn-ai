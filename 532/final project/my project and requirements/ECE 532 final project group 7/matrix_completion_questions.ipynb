{
 "cells": [
  {
   "cell_type": "markdown",
   "metadata": {},
   "source": [
    "<h1>Main Activity</h1>\n",
    "<h2>setup</h2>"
   ]
  },
  {
   "cell_type": "code",
   "execution_count": null,
   "metadata": {},
   "outputs": [],
   "source": [
    "#imports\n",
    "import numpy as np\n",
    "from scipy.io import loadmat"
   ]
  },
  {
   "cell_type": "code",
   "execution_count": null,
   "metadata": {},
   "outputs": [],
   "source": [
    "#for better view\n",
    "from IPython.core.display import display, HTML\n",
    "display(HTML(\"<style>.container { width:100% !important; }</style>\"))\n",
    "np.set_printoptions(edgeitems=30, linewidth=300,precision=2)"
   ]
  },
  {
   "cell_type": "code",
   "execution_count": null,
   "metadata": {},
   "outputs": [],
   "source": [
    "#load data\n",
    "Xtrue = loadmat(\"incomplete.mat\")[\"Xtrue\"]\n",
    "Y1 = loadmat(\"incomplete.mat\")[\"Y1\"]\n",
    "Y2 = loadmat(\"incomplete.mat\")[\"Y2\"]\n",
    "Y3 = loadmat(\"incomplete.mat\")[\"Y3\"]"
   ]
  },
  {
   "cell_type": "markdown",
   "metadata": {},
   "source": [
    "<h2>Iterative Singular Value Thresholding</h2>\n",
    "<h3>From Period 15 Activity</h3>"
   ]
  },
  {
   "cell_type": "code",
   "execution_count": null,
   "metadata": {},
   "outputs": [],
   "source": [
    "### DO NOT change\n",
    "def ItSingValThresh(Y, r):\n",
    "    \"\"\"\n",
    "    Iterative Singular Value Thresholding function for Matrix Completion\n",
    "    Assumes elements of Y are integers between 0 and 10^6\n",
    "    \"\"\"\n",
    "    tol = 10**(-6)  # difference between iterates at termination\n",
    "    n,p = Y.shape \n",
    "    X = np.array(Y) #make a copy so operations do not mutate the original\n",
    "    X[np.isnan(X)] = 0 # Fill in missing entries with zeros\n",
    "\n",
    "    err = 10**6 \n",
    "    \n",
    "    while err > tol:\n",
    "        U,s,VT = np.linalg.svd(X, full_matrices=False)\n",
    "        V = VT.T ; S = np.diag(s)\n",
    "        Xnew = (U[:,:r] @ S[:r,:r] @ V[:,:r].T).round()\n",
    "        for i in range(n):\n",
    "            for j in range(p):\n",
    "                if Y[i,j] < 10**6 and Y[i,j] > 0:\n",
    "                    Xnew[i,j] = Y[i,j]\n",
    "        err = np.linalg.norm(X-Xnew,'fro') \n",
    "        X = Xnew\n",
    "    return X"
   ]
  },
  {
   "cell_type": "code",
   "execution_count": null,
   "metadata": {},
   "outputs": [],
   "source": [
    "Xtrue"
   ]
  },
  {
   "cell_type": "code",
   "execution_count": null,
   "metadata": {},
   "outputs": [],
   "source": [
    "np.linalg.norm(Xtrue-ItSingValThresh(Y,2),'fro')**2 for Y in [Y1]"
   ]
  },
  {
   "cell_type": "code",
   "execution_count": null,
   "metadata": {},
   "outputs": [],
   "source": [
    "np.linalg.norm(Xtrue-ItSingValThresh(Y2,2),'fro')**2"
   ]
  },
  {
   "cell_type": "code",
   "execution_count": null,
   "metadata": {},
   "outputs": [],
   "source": [
    "np.linalg.norm(Xtrue-ItSingValThresh(Y3,2),'fro')**2"
   ]
  },
  {
   "cell_type": "markdown",
   "metadata": {},
   "source": [
    "<h2>Soft Impute</h2>\n",
    "<h3>for part a)</h3>"
   ]
  },
  {
   "cell_type": "code",
   "execution_count": null,
   "metadata": {},
   "outputs": [],
   "source": [
    "### DO NOT change\n",
    "def SoftImpute(X, params, r):\n",
    "    '''\n",
    "    soft impute algorithm for one lambda\n",
    "    code based on lecture and paper: https://arxiv.org/pdf/1401.2451.pdf (Algorithm 1)\n",
    "    :param np.ndarray X: the matrix to be completed\n",
    "    :param np.array params: strictly decreasing regularization parameters [lambda_1 ... lambda_k]\n",
    "    :param int r: expected rank of the complete matrix\n",
    "    :return the completed matrix\n",
    "    '''\n",
    "    Z=np.zeros_like(X)\n",
    "    n,p=X.shape\n",
    "    ans=[]\n",
    "    for lam in params:\n",
    "        eps = 10**(-1) \n",
    "        y = eps + 1\n",
    "        while y > eps:\n",
    "            for i in range(n):\n",
    "                for j in range(p):\n",
    "                    if X[i,j] < 10**6 and X[i,j] > 0:\n",
    "                        Z[i,j] = X[i,j]\n",
    "            U,s,VT = np.linalg.svd(Z)\n",
    "            if(max(s)<lam):\n",
    "                break\n",
    "            slam=[max(0,i-lam) for i in s]; V=VT.T; S = np.diag(slam)\n",
    "            Znew = (U[:,:r] @ S[:r,:r] @ V[:,:r].T)\n",
    "            y = np.linalg.norm(Znew-Z,'fro')**2 / np.linalg.norm(Z,'fro')**2\n",
    "            Z = Znew\n",
    "        ans.append(Z)\n",
    "    return ans"
   ]
  },
  {
   "cell_type": "code",
   "execution_count": null,
   "metadata": {},
   "outputs": [],
   "source": [
    "#students are to come up with arguments for the Soft Impute algorithm\n",
    "#for Y1, try something close to 1 to a list of integer power\n",
    "#try rank 2 and 3\n",
    "#params,r=\n",
    "[np.linalg.norm(Xtrue-Z,'fro')**2 for Z in SoftImpute(Y1,params,2)]"
   ]
  },
  {
   "cell_type": "code",
   "execution_count": null,
   "metadata": {},
   "outputs": [],
   "source": [
    "#students are to come up with arguments for the Soft Impute algorithm\n",
    "#for Y2 and Y3, try an array that's less than a hundred that decrease by half each time\n",
    "#try rank 2 and 3\n",
    "#params,r=\n",
    "[np.linalg.norm(Xtrue-Z,'fro')**2 for Z in SoftImpute(Y2,params,r)]\n",
    "[np.linalg.norm(Xtrue-Z,'fro')**2 for Z in SoftImpute(Y3,params,r)]"
   ]
  },
  {
   "cell_type": "markdown",
   "metadata": {},
   "source": [
    "<h2>Randomized SVD</h2>\n",
    "<h3>for part b)</h3>"
   ]
  },
  {
   "cell_type": "code",
   "execution_count": null,
   "metadata": {},
   "outputs": [],
   "source": [
    "### DO NOT change\n",
    "def RandSVD(B,k,p,q):\n",
    "    '''\n",
    "    randomized SVD for matrix completion\n",
    "    from paper:https://arxiv.org/pdf/1401.2451.pdf (Algorithm 2)\n",
    "    :param np.ndarray B: the matrix to be completed\n",
    "    :param int k: expected rank of the complete matrix\n",
    "    :param p: oversampling projection vectors\n",
    "    :param q: exponent\n",
    "    :return the completed matrix\n",
    "    '''\n",
    "    \n",
    "    A=B.copy()\n",
    "    m,n=A.shape\n",
    "    A[np.isnan(A)]=0\n",
    "    O=np.random.normal(size=(n,k+p))\n",
    "    Y=np.linalg.matrix_power(A@A.T,q)@A@O\n",
    "    V,R=np.linalg.qr(Y)\n",
    "    B=(V.T)@A\n",
    "    Phat,s,QT=np.linalg.svd(B)\n",
    "    Q=QT.T\n",
    "    S=np.diag(s)[:k,:k]\n",
    "    P=V@Phat[:,:k]\n",
    "    _,cols=S.shape\n",
    "    return P@S@Q[:,:k].T"
   ]
  },
  {
   "cell_type": "code",
   "execution_count": null,
   "metadata": {},
   "outputs": [],
   "source": [
    "#students are to come up with arguments for the Randomized SVD algorithm\n",
    "#one might want to use itertools.product to sweep through a large amount of values\n",
    "#p,q=\n",
    "np.linalg.norm(Xtrue-RandSVD(Y1,2,p,q),'fro')"
   ]
  }
 ],
 "metadata": {
  "kernelspec": {
   "display_name": "Python 3",
   "language": "python",
   "name": "python3"
  },
  "language_info": {
   "codemirror_mode": {
    "name": "ipython",
    "version": 3
   },
   "file_extension": ".py",
   "mimetype": "text/x-python",
   "name": "python",
   "nbconvert_exporter": "python",
   "pygments_lexer": "ipython3",
   "version": "3.7.5"
  }
 },
 "nbformat": 4,
 "nbformat_minor": 4
}
