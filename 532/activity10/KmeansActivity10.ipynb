{
 "cells": [
  {
   "cell_type": "code",
   "execution_count": null,
   "metadata": {},
   "outputs": [],
   "source": [
    "import numpy as np\n",
    "from scipy.io import loadmat\n",
    "from scipy.io import savemat\n",
    "import matplotlib.pyplot as plt \n",
    "\n",
    "def kMeans(X, K, maxIters = 20, plot_progress = None):\n",
    "\n",
    "    centroids = X[np.random.choice(len(X), K)]\n",
    "    for i in range(maxIters):\n",
    "        # Cluster Assignment step\n",
    "        C = np.array([np.argmin([(x_i-y_k)@(x_i-y_k) for y_k in centroids]) for x_i in X])\n",
    "        # Update centroids step \n",
    "        centroids = []\n",
    "        for k in range(K):\n",
    "            if (C == k).any():\n",
    "                centroids.append( X[C == k].mean(axis = 0) )\n",
    "            else: # if there are no data points assigned to this certain centroid\n",
    "                centroids.append( X[np.random.choice(len(X))] )\n",
    "        if plot_progress != None: plot_progress(X, C, np.array(centroids))\n",
    "    return np.array(centroids) , C\n",
    "\n",
    "# Load data for activity\n",
    "#\n",
    "in_data = loadmat('Period 10 Activity.mat')\n",
    "A = in_data['A']\n",
    "\n",
    "rows = np.array(A.shape)[0]\n",
    "cols = np.array(A.shape)[1]"
   ]
  },
  {
   "cell_type": "code",
   "execution_count": null,
   "metadata": {},
   "outputs": [],
   "source": [
    "# k-means with 1 cluster\n",
    "centroids, C = kMeans(A.transpose(), K = 1)\n",
    "print('A = ')\n",
    "print(A)\n",
    "print('centroid assigned = ',C)\n",
    "print('centroids')\n",
    "print(centroids.transpose())"
   ]
  },
  {
   "cell_type": "code",
   "execution_count": null,
   "metadata": {},
   "outputs": [],
   "source": [
    "# Construct rank-1 approximation using cluster\n",
    "Ahat_1 = centroids.transpose()@np.ones((1,cols),float)\n",
    "\n",
    "print('Rank-1 Approximation')\n",
    "print(Ahat_1)"
   ]
  },
  {
   "cell_type": "code",
   "execution_count": null,
   "metadata": {},
   "outputs": [],
   "source": [
    "# k-means with 2 clusters\n",
    "centroids, C = kMeans(A.transpose(), K = 2)\n",
    "\n",
    "print('A = ')\n",
    "print(A)\n",
    "print('centroid assigned = ',C)\n",
    "print('centroids')\n",
    "print(centroids.transpose())"
   ]
  },
  {
   "cell_type": "code",
   "execution_count": null,
   "metadata": {},
   "outputs": [],
   "source": [
    "# Construct rank-2 approximation using clusters\n",
    "\n",
    "Ahat_2 = np.zeros((rows,cols),float)\n",
    "for i in range(cols):\n",
    "    Ahat_2[:,i]=centroids.transpose()[:,C[i]]\n",
    "    \n",
    "print('Rank-2 Approximation')\n",
    "print(Ahat_2)"
   ]
  }
 ],
 "metadata": {
  "kernelspec": {
   "display_name": "Python 3",
   "language": "python",
   "name": "python3"
  },
  "language_info": {
   "codemirror_mode": {
    "name": "ipython",
    "version": 3
   },
   "file_extension": ".py",
   "mimetype": "text/x-python",
   "name": "python",
   "nbconvert_exporter": "python",
   "pygments_lexer": "ipython3",
   "version": "3.6.6"
  }
 },
 "nbformat": 4,
 "nbformat_minor": 2
}
