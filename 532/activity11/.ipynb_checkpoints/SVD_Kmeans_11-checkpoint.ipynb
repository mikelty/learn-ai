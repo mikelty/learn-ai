{
 "cells": [
  {
   "cell_type": "code",
   "execution_count": 1,
   "metadata": {},
   "outputs": [],
   "source": [
    "import numpy as np\n",
    "from scipy.io import loadmat\n",
    "from scipy.io import savemat\n",
    "import matplotlib.pyplot as plt \n",
    "\n",
    "def kMeans(X, K, maxIters = 20):\n",
    "\n",
    "    centroids = X[np.random.choice(len(X), K)]\n",
    "    for i in range(maxIters):\n",
    "        # Cluster Assignment step\n",
    "        C = np.array([np.argmin([(x_i-y_k)@(x_i-y_k) for y_k in centroids]) for x_i in X])\n",
    "        # Update centroids step \n",
    "        centroids = []\n",
    "        for k in range(K):\n",
    "            if (C == k).any():\n",
    "                centroids.append( X[C == k].mean(axis = 0) )\n",
    "            else: # if there are no data points assigned to this certain centroid\n",
    "                centroids.append( X[np.random.choice(len(X))] )\n",
    "    return np.array(centroids) , C\n",
    "\n",
    "# Load data for activity\n",
    "in_data = loadmat('Period11Activity.mat')\n",
    "X = in_data['X']\n",
    "\n",
    "rows = np.array(X.shape)[0]\n",
    "cols = np.array(X.shape)[1]"
   ]
  },
  {
   "cell_type": "code",
   "execution_count": 2,
   "metadata": {},
   "outputs": [
    {
     "name": "stdout",
     "output_type": "stream",
     "text": [
      "X = \n",
      "[[ 4  7  2  8  7  4  2]\n",
      " [ 9  3  5  6 10  5  5]\n",
      " [ 4  8  3  7  6  4  1]\n",
      " [ 9  2  6  5  9  5  4]\n",
      " [ 4  9  2  8  7  4  1]]\n",
      "\n",
      "centroid assigned = \n",
      "[1 0 1 0 0 1 1]\n",
      "\n",
      "centroids =\n",
      "[[7.333 3.   ]\n",
      " [6.333 6.   ]\n",
      " [7.    3.   ]\n",
      " [5.333 6.   ]\n",
      " [8.    2.75 ]]\n",
      "\n"
     ]
    }
   ],
   "source": [
    "# k-means with 2 clusters\n",
    "centroids, C = kMeans(X.transpose(), K = 2)\n",
    "\n",
    "print('X = ', X, sep=\"\\n\", end='\\n\\n')\n",
    "print('centroid assigned = ',C, sep=\"\\n\", end='\\n\\n')\n",
    "print('centroids =', centroids.T.round(3), sep=\"\\n\", end='\\n\\n')"
   ]
  },
  {
   "cell_type": "code",
   "execution_count": 3,
   "metadata": {},
   "outputs": [
    {
     "name": "stdout",
     "output_type": "stream",
     "text": [
      "Rank-2 Approximation = \n",
      "[[3.    7.333 3.    7.333 7.333 3.    3.   ]\n",
      " [6.    6.333 6.    6.333 6.333 6.    6.   ]\n",
      " [3.    7.    3.    7.    7.    3.    3.   ]\n",
      " [6.    5.333 6.    5.333 5.333 6.    6.   ]\n",
      " [2.75  8.    2.75  8.    8.    2.75  2.75 ]]\n",
      "\n"
     ]
    }
   ],
   "source": [
    "# Construct rank-2 approximation using clusters\n",
    "\n",
    "Xhat_2 = np.zeros((rows,cols),float)\n",
    "for i in range(cols):\n",
    "    Xhat_2[:,i]=centroids.transpose()[:,C[i]]\n",
    "    \n",
    "print('Rank-2 Approximation = ', Xhat_2.round(3), sep=\"\\n\", end='\\n\\n')"
   ]
  },
  {
   "cell_type": "code",
   "execution_count": 4,
   "metadata": {},
   "outputs": [
    {
     "name": "stdout",
     "output_type": "stream",
     "text": [
      "X = \n",
      "[[ 4  7  2  8  7  4  2]\n",
      " [ 9  3  5  6 10  5  5]\n",
      " [ 4  8  3  7  6  4  1]\n",
      " [ 9  2  6  5  9  5  4]\n",
      " [ 4  9  2  8  7  4  1]]\n",
      "\n",
      "centroid assigned = \n",
      "[1 0 1 0 2 1 1]\n",
      "\n",
      "centroids = \n",
      "[[ 7.5   3.    7.  ]\n",
      " [ 4.5   6.   10.  ]\n",
      " [ 7.5   3.    6.  ]\n",
      " [ 3.5   6.    9.  ]\n",
      " [ 8.5   2.75  7.  ]]\n",
      "\n",
      "Rank-3 Approximation =\n",
      "[[ 3.    7.5   3.    7.5   7.    3.    3.  ]\n",
      " [ 6.    4.5   6.    4.5  10.    6.    6.  ]\n",
      " [ 3.    7.5   3.    7.5   6.    3.    3.  ]\n",
      " [ 6.    3.5   6.    3.5   9.    6.    6.  ]\n",
      " [ 2.75  8.5   2.75  8.5   7.    2.75  2.75]]\n",
      "\n"
     ]
    }
   ],
   "source": [
    "# k-means with 3 clusters\n",
    "centroids, C = kMeans(X.transpose(), K = 3)\n",
    "\n",
    "print('X = ', X, sep=\"\\n\", end='\\n\\n')\n",
    "print('centroid assigned = ',C, sep=\"\\n\", end='\\n\\n')\n",
    "print('centroids = ', centroids.T.round(3), sep=\"\\n\", end='\\n\\n')\n",
    "\n",
    "# Construct rank-3 approximation using clusters\n",
    "\n",
    "Xhat_3 = np.zeros((rows,cols),float)\n",
    "for i in range(cols):\n",
    "    Xhat_3[:,i]=centroids.transpose()[:,C[i]]\n",
    "    \n",
    "print('Rank-3 Approximation =', Xhat_3.round(3), sep=\"\\n\", end='\\n\\n')"
   ]
  },
  {
   "cell_type": "code",
   "execution_count": 5,
   "metadata": {},
   "outputs": [
    {
     "name": "stdout",
     "output_type": "stream",
     "text": [
      "U = \n",
      "[[-0.419 -0.319  0.565 -0.634  0.043]\n",
      " [-0.506  0.469  0.402  0.428 -0.424]\n",
      " [-0.402 -0.372 -0.582 -0.106 -0.592]\n",
      " [-0.466  0.552 -0.424 -0.318  0.444]\n",
      " [-0.436 -0.485 -0.019  0.55   0.521]]\n",
      "\n",
      "Singular Values = \n",
      "[32.952 10.165  1.788  0.699  0.407]\n",
      "\n",
      "V^T = \n",
      "[[-0.418 -0.38  -0.25  -0.456 -0.536 -0.3   -0.184]\n",
      " [ 0.441 -0.695  0.289 -0.34   0.177  0.04   0.301]\n",
      " [-0.191 -0.286 -0.664  0.329  0.3   -0.142  0.472]\n",
      " [ 0.329  0.445 -0.363 -0.626  0.276 -0.301  0.062]\n",
      " [ 0.174 -0.306 -0.252  0.121  0.385 -0.023 -0.806]]\n",
      "\n"
     ]
    }
   ],
   "source": [
    "U,s,VT = np.linalg.svd(X,full_matrices=False)\n",
    "\n",
    "print('U = ',U.round(3), sep=\"\\n\", end='\\n\\n')\n",
    "print('Singular Values = ',s.round(3), sep=\"\\n\", end='\\n\\n')\n",
    "print('V^T = ',VT.round(3), sep=\"\\n\", end='\\n\\n')"
   ]
  },
  {
   "cell_type": "code",
   "execution_count": 6,
   "metadata": {},
   "outputs": [
    {
     "name": "stdout",
     "output_type": "stream",
     "text": [
      "Taste for rank-1 = \n",
      "[-0.419 -0.506 -0.402 -0.466 -0.436]\n",
      "\n",
      "Weights for rank-1 = \n",
      "[-13.773 -12.521  -8.24  -15.017 -17.647  -9.886  -6.068]\n",
      "\n",
      "Rank-1 Approximation = \n",
      "[[5.766 5.242 3.45  6.286 7.387 4.139 2.54 ]\n",
      " [6.964 6.331 4.167 7.593 8.923 4.999 3.068]\n",
      " [5.538 5.035 3.313 6.038 7.095 3.975 2.44 ]\n",
      " [6.419 5.835 3.84  6.998 8.224 4.607 2.828]\n",
      " [6.006 5.461 3.594 6.549 7.696 4.311 2.646]]\n",
      "\n"
     ]
    }
   ],
   "source": [
    "# svd rank-1 approximation\n",
    "\n",
    "# svd rank-1 approximation\n",
    "T = U[:,0]\n",
    "print('Taste for rank-1 = ', T.round(3), sep=\"\\n\", end='\\n\\n')\n",
    "\n",
    "W = s[0]*VT[0,:]\n",
    "print('Weights for rank-1 = ',W.round(3), sep=\"\\n\", end='\\n\\n')\n",
    "\n",
    "X_1 = s[0]*U[:,[0]]@VT[[0],:]\n",
    "print(\"Rank-1 Approximation = \",X_1.round(3), sep=\"\\n\", end='\\n\\n')"
   ]
  },
  {
   "cell_type": "code",
   "execution_count": 7,
   "metadata": {},
   "outputs": [
    {
     "name": "stdout",
     "output_type": "stream",
     "text": [
      "Taste for rank-2 = \n",
      "[[-0.419 -0.319]\n",
      " [-0.506  0.469]\n",
      " [-0.402 -0.372]\n",
      " [-0.466  0.552]\n",
      " [-0.436 -0.485]]\n",
      "\n",
      "Weights for rank-2 = \n",
      "[[-13.773 -12.521  -8.24  -15.017 -17.647  -9.886  -6.068]\n",
      " [  4.488  -7.06    2.935  -3.458   1.802   0.403   3.059]]\n",
      "\n",
      "Rank-2 Approximation = \n",
      "[[3.    7.333 3.    7.333 7.333 3.    3.   ]\n",
      " [6.    6.333 6.    6.333 6.333 6.    6.   ]\n",
      " [3.    7.    3.    7.    7.    3.    3.   ]\n",
      " [6.    5.333 6.    5.333 5.333 6.    6.   ]\n",
      " [2.75  8.    2.75  8.    8.    2.75  2.75 ]]\n",
      "\n"
     ]
    }
   ],
   "source": [
    "# svd rank-2 approximation\n",
    "T = U[:,:2]\n",
    "print('Taste for rank-2 = ', T.round(3), sep=\"\\n\", end='\\n\\n')\n",
    "\n",
    "W = np.vstack((s[0]*VT[0,:], s[1]*VT[1,:]))\n",
    "print('Weights for rank-2 = ', W.round(3), sep=\"\\n\", end='\\n\\n')\n",
    "\n",
    "X_2 = s[0]*U[:,[0]]@VT[[0],:] + s[1]*U[:,[1]]@VT[[1],:]\n",
    "print('Rank-2 Approximation = ',Xhat_2.round(3), sep=\"\\n\", end='\\n\\n')"
   ]
  },
  {
   "cell_type": "code",
   "execution_count": 8,
   "metadata": {},
   "outputs": [
    {
     "name": "stdout",
     "output_type": "stream",
     "text": [
      "Jon ratings =\n",
      "[[6.   ]\n",
      " [4.   ]\n",
      " [6.014]\n",
      " [3.231]\n",
      " [6.832]]\n",
      "\n"
     ]
    }
   ],
   "source": [
    "# Use svd to predict Jon's ratings\n",
    "\n",
    "# first two tastes\n",
    "T = U[:,:2]\n",
    "\n",
    "# tastes for which we have ratings\n",
    "G = T[:2,:2]\n",
    "\n",
    "# ratings for first two movies\n",
    "y =np.array([[6], [4]])\n",
    "\n",
    "# use first two movies to find weights for tastes\n",
    "a = np.linalg.inv(G.transpose()@G)@G.transpose()@y\n",
    "\n",
    "# now use weights and tastes to predict all ratings\n",
    "Jon_ratings = T@a\n",
    "\n",
    "print('Jon ratings =',Jon_ratings.round(3), sep=\"\\n\", end='\\n\\n')"
   ]
  },
  {
   "cell_type": "code",
   "execution_count": null,
   "metadata": {},
   "outputs": [],
   "source": []
  }
 ],
 "metadata": {
  "kernelspec": {
   "display_name": "Python 3",
   "language": "python",
   "name": "python3"
  },
  "language_info": {
   "codemirror_mode": {
    "name": "ipython",
    "version": 3
   },
   "file_extension": ".py",
   "mimetype": "text/x-python",
   "name": "python",
   "nbconvert_exporter": "python",
   "pygments_lexer": "ipython3",
   "version": "3.8.1"
  }
 },
 "nbformat": 4,
 "nbformat_minor": 2
}
